{
 "cells": [
  {
   "cell_type": "code",
   "execution_count": 1,
   "metadata": {},
   "outputs": [],
   "source": [
    "from PIL import Image\n",
    "from PIL.ExifTags import TAGS\n",
    "\n"
   ]
  },
  {
   "cell_type": "code",
   "execution_count": 5,
   "metadata": {},
   "outputs": [],
   "source": [
    "# path to the image or video\n",
    "imagename = \"DJI_0537.JPG\"\n",
    "\n",
    "# read the image data using PIL\n",
    "image = Image.open(imagename)\n"
   ]
  },
  {
   "cell_type": "code",
   "execution_count": 4,
   "metadata": {},
   "outputs": [],
   "source": [
    "# extract EXIF data\n",
    "exifdata = image.getexif()"
   ]
  },
  {
   "cell_type": "code",
   "execution_count": 6,
   "metadata": {},
   "outputs": [
    {
     "name": "stdout",
     "output_type": "stream",
     "text": [
      "ImageWidth               : 4056\n",
      "ImageLength              : 3040\n",
      "BitsPerSample            : (8, 8, 8)\n",
      "GPSInfo                  : 722\n",
      "ResolutionUnit           : 2\n",
      "ExifOffset               : 332\n",
      "ImageDescription         : default\n",
      "Make                     : DJI\n",
      "Model                    : FC2403\n",
      "Software                 : 10.00.08.43\n",
      "Orientation              : 1\n",
      "YCbCrPositioning         : 1\n",
      "DateTime                 : 2022:02:03 14:32:20\n",
      "SamplesPerPixel          : 3\n",
      "XResolution              : 72.0\n",
      "YResolution              : 72.0\n",
      "XPComment                : 0\u0000.\u00009\u0000.\u00001\u00004\u00002\u0000\u0000\u0000\u0000\u0000\u0000\u0000\u0000\u0000\u0000\u0000\u0000\u0000\u0000\u0000\u0000\u0000\u0000\u0000\u0000\u0000\u0000\u0000\u0000\u0000\u0000\u0000\u0000\u0000\u0000\u0000\u0000\u0000\u0000\u0000\u0000\u0000\u0000\u0000\u0000\u0000\u0000\u0000\u0000\u0000\u0000\u0000\u0000\u0000\u0000\u0000\u0000\u0000\u0000\u0000\u0000\u0000\u0000\u0000\u0000\u0000\u0000\u0000\u0000\u0000\u0000\u0000\u0000\u0000\u0000\u0000\u0000\u0000\u0000\u0000\u0000\u0000\u0000\u0000\u0000\u0000\u0000\u0000\u0000\u0000\u0000\u0000\u0000\u0000\u0000\u0000\u0000\u0000\u0000\u0000\u0000\u0000\u0000\u0000\u0000\u0000\u0000\u0000\u0000\u0000\u0000\u0000\u0000\u0000\u0000\u0000\u0000\u0000\u0000\u0000\n",
      "XPKeywords               : s\u0000i\u0000n\u0000g\u0000l\u0000e\u0000\n"
     ]
    }
   ],
   "source": [
    "# iterating over all EXIF data fields\n",
    "for tag_id in exifdata:\n",
    "    # get the tag name, instead of human unreadable tag id\n",
    "    tag = TAGS.get(tag_id, tag_id)\n",
    "    data = exifdata.get(tag_id)\n",
    "    # decode bytes \n",
    "    if isinstance(data, bytes):\n",
    "        data = data.decode()\n",
    "    print(f\"{tag:25}: {data}\")"
   ]
  },
  {
   "cell_type": "code",
   "execution_count": 13,
   "metadata": {},
   "outputs": [],
   "source": [
    "\n",
    "from PIL import Image\n",
    "import piexif\n",
    "\n",
    "def extract_coords(image):\n",
    "    exif_data = piexif.load(image._getexif())\n",
    "    if piexif.ImageIFD.Latitude in exif_data[\"0th\"] and piexif.ImageIFD.Longitude in exif_data[\"0th\"]:\n",
    "        lat = exif_data[\"0th\"][piexif.ImageIFD.Latitude]\n",
    "        lon = exif_data[\"0th\"][piexif.ImageIFD.Longitude]\n",
    "        return lat\n",
    "\n"
   ]
  },
  {
   "cell_type": "code",
   "execution_count": 35,
   "metadata": {},
   "outputs": [],
   "source": [
    "from PIL import Image, ExifTags\n",
    "img = Image.open(\"DJI_0537.JPG\")\n",
    "exif = { ExifTags.TAGS[k]: v for k, v in img._getexif().items() if k in ExifTags.TAGS }"
   ]
  },
  {
   "cell_type": "code",
   "execution_count": 36,
   "metadata": {},
   "outputs": [
    {
     "data": {
      "text/plain": [
       "{0: b'\\x02\\x03\\x00\\x00',\n",
       " 1: 'S',\n",
       " 2: (24.0, 48.0, 5.7048),\n",
       " 3: 'E',\n",
       " 4: (28.0, 18.0, 25.1369),\n",
       " 5: b'\\x00',\n",
       " 6: 1419.0}"
      ]
     },
     "execution_count": 36,
     "metadata": {},
     "output_type": "execute_result"
    }
   ],
   "source": [
    "exif[\"GPSInfo\"]"
   ]
  },
  {
   "cell_type": "code",
   "execution_count": 29,
   "metadata": {},
   "outputs": [
    {
     "name": "stdout",
     "output_type": "stream",
     "text": [
      "S: 24.0, 48.0, 5.7048\n",
      "E: 28.0, 18.0, 25.1369\n"
     ]
    }
   ],
   "source": [
    "result1 = f\"{exif['GPSInfo'][1]}: {', '.join(map(str, exif['GPSInfo'][2]))}\"\n",
    "result2 = f\"{exif['GPSInfo'][3]}: {', '.join(map(str, exif['GPSInfo'][4]))}\"\n",
    "\n",
    "print(result1)\n",
    "print(result2)\n",
    "\n"
   ]
  },
  {
   "cell_type": "code",
   "execution_count": 30,
   "metadata": {},
   "outputs": [],
   "source": [
    "def get_coordinates(img): \n",
    "    \n",
    "    exif = { ExifTags.TAGS[k]: v for k, v in img._getexif().items() if k in ExifTags.TAGS }\n",
    "    Lat = f\"{exif['GPSInfo'][1]}: {', '.join(map(str, exif['GPSInfo'][2]))}\"\n",
    "    Long= f\"{exif['GPSInfo'][3]}: {', '.join(map(str, exif['GPSInfo'][4]))}\"\n",
    "    \n",
    "    return Lat,Long"
   ]
  },
  {
   "cell_type": "code",
   "execution_count": 34,
   "metadata": {},
   "outputs": [
    {
     "name": "stdout",
     "output_type": "stream",
     "text": [
      "('S: 24.0, 48.0, 5.7048', 'E: 28.0, 18.0, 25.1369')\n"
     ]
    }
   ],
   "source": [
    "img = Image.open(\"DJI_0537.JPG\")\n",
    "print(get_coordinates(img.Lat))"
   ]
  }
 ],
 "metadata": {
  "kernelspec": {
   "display_name": "Python 3",
   "language": "python",
   "name": "python3"
  },
  "language_info": {
   "codemirror_mode": {
    "name": "ipython",
    "version": 3
   },
   "file_extension": ".py",
   "mimetype": "text/x-python",
   "name": "python",
   "nbconvert_exporter": "python",
   "pygments_lexer": "ipython3",
   "version": "3.10.10"
  },
  "orig_nbformat": 4
 },
 "nbformat": 4,
 "nbformat_minor": 2
}
